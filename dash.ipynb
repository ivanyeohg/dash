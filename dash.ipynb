{
 "cells": [
  {
   "cell_type": "code",
   "execution_count": null,
   "id": "2164033c",
   "metadata": {},
   "outputs": [],
   "source": [
    "import numpy as np\n",
    "import pandas as pd\n",
    "import seaborn as sns\n",
    "import matplotlib.pyplot as plt\n",
    "import ipywidgets as widgets\n",
    "from ipywidgets import Layout, interact, AppLayout\n",
    "from IPython.display import display, HTML\n",
    "display(HTML('<h1>Voila Dashboard</h1>'))\n",
    "display(HTML('<h3>This is a simple dashboard made with Jupyter Notebook and Voila</h3>'))\n",
    "display(HTML('The following displays the plot of $r = a\\\\sin n\\\\theta$.'))\n",
    "style = {'slider_width':'500px'}\n",
    "a = widgets.FloatSlider(value=1, min=1, max=10, step=0.5, description='a:', layout=Layout(width='250px'))\n",
    "n = widgets.FloatSlider(value=6, min=1, max=10, step=1.0, description='n:', layout=Layout(width='250px'))\n",
    "def plotter(a, n):\n",
    "    theta = np.linspace(0, 2*np.pi, 1000)\n",
    "    r = a * np.sin(n * theta)\n",
    "    x = r * np.cos(theta)\n",
    "    y = r * np.sin(theta)\n",
    "    fig, ax = plt.subplots()\n",
    "    ax.plot(x, y)\n",
    "    ax.set_aspect('equal')\n",
    "    ax.set_xlim(-10, 10)\n",
    "    ax.set_ylim(-10, 10)\n",
    "    ax.axis(False)\n",
    "    return\n",
    "interact(plotter, a=a, n=n)\n",
    "plt.show()"
   ]
  }
 ],
 "metadata": {
  "kernelspec": {
   "display_name": "Python 3 (ipykernel)",
   "language": "python",
   "name": "python3"
  },
  "language_info": {
   "codemirror_mode": {
    "name": "ipython",
    "version": 3
   },
   "file_extension": ".py",
   "mimetype": "text/x-python",
   "name": "python",
   "nbconvert_exporter": "python",
   "pygments_lexer": "ipython3",
   "version": "3.11.3"
  }
 },
 "nbformat": 4,
 "nbformat_minor": 5
}
